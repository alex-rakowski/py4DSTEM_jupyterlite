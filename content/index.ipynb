{
 "cells": [
  {
   "cell_type": "markdown",
   "metadata": {},
   "source": [
    "# Welcome to the in browser py4DSTEM demos. \n",
    "\n",
    "Run the below cell and then pick any of the fabulous notebooks below"
   ]
  },
  {
   "cell_type": "code",
   "execution_count": null,
   "metadata": {},
   "outputs": [],
   "source": [
    "# all stuff to set up in your browser\n",
    "import piplite\n",
    "import micropip\n",
    "# \n",
    "await piplite.install(\"py4DSTEM==0.14.8\", deps=False); await piplite.install(\"pylops\");await piplite.install(\"emdfile\");await piplite.install(\"ncempy\");await piplite.install(\"dask\");await micropip.install(\"colorspacious\");await micropip.install(\"hdf5plugin\");await micropip.install(\"gdown\");await micropip.install(\"scikit-image\");await piplite.install(\"scikit-optimize\");"
   ]
  },
  {
   "cell_type": "markdown",
   "metadata": {},
   "source": [
    "[Quick Test Notebook](Quick_test_notebook.ipynb)"
   ]
  }
 ],
 "metadata": {
  "language_info": {
   "name": "python"
  }
 },
 "nbformat": 4,
 "nbformat_minor": 2
}
